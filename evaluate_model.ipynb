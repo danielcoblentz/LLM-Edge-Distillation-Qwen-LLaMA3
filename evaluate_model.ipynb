{
 "cells": [
  {
   "cell_type": "code",
   "execution_count": null,
   "id": "c2bc8939",
   "metadata": {},
   "outputs": [],
   "source": [
    "#libraries, helper functions from utils file\n",
    "from data_utils import save_data, evaluate_sentiment_model,predict_sentiment_labels,load_model_and_tokenizer, load_sentiment_data, evaluate"
   ]
  },
  {
   "cell_type": "code",
   "execution_count": null,
   "id": "128e5841",
   "metadata": {},
   "outputs": [],
   "source": [
    "# Load data\n",
    "texts, labels = load_sentiment_data(\"sentiment_test.csv\")\n",
    "\n",
    "#define model\n",
    "model_name = \"distilbert-base-uncased-finetuned-sst-2-english\"\n",
    "model, tokenizer = load_model_and_tokenizer(model_name)\n",
    "\n",
    "# Get predictions\n",
    "preds = predict_sentiment_labels(model, tokenizer, texts)\n",
    "\n",
    "\n",
    "evaluate(\n",
    "    model_name=model_name,\n",
    "    y_true=labels,\n",
    "    y_pred=preds,\n",
    "    output_json=\"results/sentiment_distilbert.json\"\n",
    ")\n"
   ]
  }
 ],
 "metadata": {
  "kernelspec": {
   "display_name": "env",
   "language": "python",
   "name": "python3"
  },
  "language_info": {
   "name": "python",
   "version": "3.11.9"
  }
 },
 "nbformat": 4,
 "nbformat_minor": 5
}
